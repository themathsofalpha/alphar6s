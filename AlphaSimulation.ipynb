{
 "cells": [
  {
   "cell_type": "markdown",
   "metadata": {},
   "source": [
    "# Probability of Alpha pack draws in R6S\n",
    "\n",
    "\n",
    "# 1 Introduction\n",
    "\n",
    "The goal of this notebook is to understand the mechanism of Alpha pack drops a bit better through a simulation. Specifically, the two questions listed below in 1.2 are of relevance. Firstly, let us specify the rules of the Alpha pack draw.\n",
    "\n",
    "## 1.1 Rules of the Alpha pack drop\n",
    "0. The initial value of the probability of an Alpha pack dropping is $p_{A}=0.02$ (2 percent).\n",
    "1. A player plays a match and wins with a probability $p_{win}$.\n",
    "2. - If the player wins, an Alpha pack drops with probability $p_{A}$. It is simulated as a random sample of a Bernoulli distributed random variable $A\\sim\\text{Be}(p_A)$.\n",
    "    - If the Alpha pack dropped: The probability is reset to $p_A=0.02$ (for a moment).\n",
    "     - If the Alpha pack did not drop: We add $0.02$ to the value of $p_A$.\n",
    "  - If the player lost the match, we add $0.015$ to the value of $p_A$.\n",
    "\n",
    "Repeat 1-2 every time you play a match.\n",
    "\n",
    "### Winning probability vs. Win-Loss\n",
    "A word about the winning probability $p_{win}$: I just compute the ratio of matches I have won. \n",
    "This is obviously not the W/L ratio: Let's say a player has a W/L of 0.5. This player needs to lose twice before winning one match, i.e. on average the player wins one in three matches: $p_{win}=\\frac{1}{3}$.\n",
    "\n",
    "Actually, you can compute your $p_{win}$ using your W/L ratio: Let the W/L ratio be called $R$. Then, the $p_{win}$ is given by:\n",
    "$$p_{win} = \\frac{R}{1+R}.$$\n",
    "\n",
    "**Proof** by high-school level calculations:\n",
    "- You play $N$ matches, win $W$ and lose $L$ of them: $N=L+W$\n",
    "- We are interested in the quantity $p_{win}:=\\frac{W}{N}$\n",
    "- Given is the Win-Loss ratio $R := \\frac{W}{L}$.\n",
    "- $p_{win} = \\frac{W}{N} = \\frac{W}{L+W}$.\n",
    "- Thus, $\\frac{1}{p_{Win}} = \\frac{L+W}{W} = \\frac{L}{W} + 1 = \\frac{1+R}{R}$.\n",
    "- Therefore, $p_{win} = \\frac{R}{1+R}$.\n",
    "\n",
    "\n",
    "## 1.2 Main questions\n",
    "\n",
    "The following questions should get answered:\n",
    "\n",
    "1. **How many rounds does a player expect to have to play until another Alpha pack drops?**\n",
    "2. **After each round without an Alpha pack dropping, the probability $p_A$ of an Alpha pack dropping after the next won match increases (either by 1.5 or by 2 percent). What accumulated probability $p_A$ does a player reach *in expectation* until another Alpha pack drops?**\n",
    "\n",
    "Specifically, we are not just interested in the expectations, but in the probability distributions.\n",
    "\n",
    "## 1.3 Mathematical model vs. Simulation\n",
    "A mathematical model is not difficult to write down. In fact, one has to follow the classical derivation of the Geometric distribution, with iid Bernoulli random variables. The only change to be implemented are the different Bernoulli probabilities at each draw. \n",
    "I derived a formula pretty quickly, but it does not have a pretty form, and I had to evaluate it numerically. It turns out that a simple simulation of the mechanism is faster to write and the result does not significantly derive from the simulation.\n",
    "\n",
    "This is the curse and blessing of the 21st century: With the computational power available to us, simulations are quicker (and at times numerically more accurate) than exact computations with paper and pencil. We (obviously including me) are evolving our brains to degenerate."
   ]
  },
  {
   "cell_type": "markdown",
   "metadata": {},
   "source": [
    "# 2 Implementing a player in Python\n",
    "\n",
    "The first step is to import some libraries."
   ]
  },
  {
   "cell_type": "code",
   "execution_count": 1,
   "metadata": {},
   "outputs": [],
   "source": [
    "# Import some standard libraries to python. \n",
    "# If you don't have them installed, run \n",
    "# pip install numpy matplotlib pandas\n",
    "# on your bash or PowerShell.\n",
    "\n",
    "import numpy as np\n",
    "import matplotlib.pyplot as plt\n",
    "import pandas as pd\n",
    "%matplotlib inline"
   ]
  },
  {
   "cell_type": "markdown",
   "metadata": {},
   "source": [
    "Now we can start.\n",
    "\n",
    "For our considerations, a player is modeled by its probability to win a round. As a modest player myself, I have won roughly $40$ percent of my matches, thus I will set $p_{win}=0.4$.\n",
    "\n",
    "The parameter `n_matches` corresponds to the number of matches we are going to simulate. Set it to a value which will yield a nice smooth distribution at an acceptable computation time."
   ]
  },
  {
   "cell_type": "code",
   "execution_count": 2,
   "metadata": {},
   "outputs": [],
   "source": [
    "p_win = .4\n",
    "n_matches = int(7e6)"
   ]
  },
  {
   "cell_type": "markdown",
   "metadata": {},
   "source": [
    "Let us implement the class representing a player. This class has two methods - one to simulate the matches, and one to simulate an Alpha Pack draw after each round. \n",
    "\n",
    "A player is represented by its probability `p_win` to win. For the Alpha Pack simulations, the variables `dp_loss` and `dp_win` correspond to the increase in probability which gets awarded after a lost or a won match, respectively. In the present version, these delta values are $1.5$ and $2$ percent, respectively.\n",
    "\n",
    "The method `sim_alpha_naive` assumes that the matches have already been simulated, goes through all matches, simulates an Alpha Pack draw after each match won, and updates the probability for the next draw. Please note that after a successful draw, the probability is set again to $2$ percent, i.e. to `dp_win`."
   ]
  },
  {
   "cell_type": "code",
   "execution_count": 3,
   "metadata": {},
   "outputs": [],
   "source": [
    "class Player:\n",
    "    def __init__(self, p_win, dp_loss=.015, dp_win=.02):            \n",
    "        self._p_win = p_win\n",
    "        self._dp_win = dp_win\n",
    "        self._dp_loss = dp_loss\n",
    "\n",
    "    def sim_matches(self, n_matches):\n",
    "        # simulate matches\n",
    "        matches = np.random.binomial(1, self._p_win, n_matches)\n",
    "        # simulate alpha pack draws\n",
    "        alpha, alpha_prob = self.sim_alpha_naive(matches)\n",
    "        \n",
    "        results = pd.DataFrame(data={'Result': matches,\n",
    "                                     'Alpha Dropped': alpha,\n",
    "                                     'p[Alpha]': alpha_prob[:n_matches]\n",
    "                                     })\n",
    "        \n",
    "        results['Result']=results['Result'].astype(bool)\n",
    "        results['Alpha Dropped']=results['Alpha Dropped'].astype(bool)\n",
    "        return results\n",
    "\n",
    "    def sim_alpha_naive(self, matches):\n",
    "        if matches.__len__()==0:\n",
    "            raise RuntimeError('No rounds simulated yet.')\n",
    "\n",
    "        # preallocate\n",
    "        alpha = [None]*matches.__len__()\n",
    "        alpha_prob = [self._dp_win] + \\\n",
    "                     [None]*(matches.__len__())\n",
    "\n",
    "        'go through all rounds and simulate alpha draw'\n",
    "        for k in range(matches.__len__()):\n",
    "            result = matches[k]\n",
    "\n",
    "            if not result:\n",
    "                'if round was lost: update probability'\n",
    "                get_alpha = 0\n",
    "                alpha_prob[k+1] = min(1., alpha_prob[k] + self._dp_loss)\n",
    "            else:\n",
    "                'if round has been won'\n",
    "                alpha_draw_prob = alpha_prob[k]\n",
    "                get_alpha = np.random.binomial(1, alpha_draw_prob, 1)[0]\n",
    "\n",
    "                if get_alpha:\n",
    "                    'if alpha dropped: reset probability'\n",
    "                    alpha_prob[k+1] = self._dp_win\n",
    "                else:\n",
    "                    'if no alpha dropped: update probability'\n",
    "                    alpha_prob[k+1] = min(1., alpha_prob[k] + self._dp_win)\n",
    "\n",
    "            alpha[k] = get_alpha\n",
    "        return alpha, alpha_prob        "
   ]
  },
  {
   "cell_type": "markdown",
   "metadata": {},
   "source": [
    "# 2 Simulate the rounds\n",
    "\n",
    "We now open an instance of the class and simulate `n_matches` matches."
   ]
  },
  {
   "cell_type": "code",
   "execution_count": 4,
   "metadata": {},
   "outputs": [],
   "source": [
    "pl = Player(p_win)\n",
    "result = pl.sim_matches(n_matches)"
   ]
  },
  {
   "cell_type": "markdown",
   "metadata": {},
   "source": [
    "Let us look at a typical progression of the probability to win. In the following picture, you will see an excerpt of the simulated data: \n",
    "\n",
    "- On the x-axis you see the number $n$ of the simulated match. We randomly choose 300 consecutive matches to display.\n",
    "- On the y-axis is the probability to draw an Alpha pack after the $n$-th match\n",
    "- Green dots are won matches. Red dots are lost matches.\n",
    "- The black line represents the probability."
   ]
  },
  {
   "cell_type": "code",
   "execution_count": 5,
   "metadata": {},
   "outputs": [
    {
     "data": {
      "image/png": "[encoded data removed]",
      "text/plain": [
       "<Figure size 432x288 with 1 Axes>"
      ]
     },
     "metadata": {
      "needs_background": "light"
     },
     "output_type": "display_data"
    }
   ],
   "source": [
    "n_samples=300\n",
    "idx_start = np.random.randint(low=0, high=n_matches-n_samples)\n",
    "idx_end = idx_start+n_samples\n",
    "\n",
    "result_plt = result[idx_start:idx_end]\n",
    "idx_wins = np.where(result_plt['Result'])[0]\n",
    "idx_loss = np.where(1-result_plt['Result'])[0]\n",
    "\n",
    "plt.plot(result_plt['p[Alpha]'][idx_start+idx_wins], 'go')\n",
    "plt.plot(result_plt['p[Alpha]'][idx_start+idx_loss], 'ro')\n",
    "plt.plot(result_plt['p[Alpha]'], 'k-', drawstyle='steps')\n",
    "axes = plt.gca()\n",
    "_ = axes.set_ylim([0,1])\n",
    "\n",
    "_ = plt.title('Probability of Alpha dropping, Rounds {}-{}'.format(idx_start, idx_end))"
   ]
  },
  {
   "cell_type": "markdown",
   "metadata": {},
   "source": [
    "What do we observe? Currently, we have set the probability to win a match to 40 percent. From the looks of it, this player will get an Alpha pack at probabilities between 20 and 30 percent. This roughly corresponds to my experience."
   ]
  },
  {
   "cell_type": "markdown",
   "metadata": {},
   "source": [
    "# 3 Visualise empirical distributions\n",
    "\n",
    "The main questions at hand are: **What is the distribution of the number of rounds played until an Alpha pack will drop again? What is the distribution of the probability I have reached at the point when an Alpha pack drops?**\n",
    "\n",
    "The previous plot (and personal experience) give us an idea: The answer to the first question might be between 10 and 25, the answer to the second question might be somewhere between 20 and 30 percent. \n",
    "\n",
    "Now what is the average probability the player will reach when it drops? What about symmetry and tails? Is it almost unlikely a pack will only drop at, say, 80 percent?\n",
    "\n",
    "Luckily, we have simulated a million matches and will therefore obtain a good idea of how the probability distribution looks.\n",
    "\n",
    "Let us prepare the data to obtain a good plot."
   ]
  },
  {
   "cell_type": "code",
   "execution_count": 6,
   "metadata": {},
   "outputs": [],
   "source": [
    "# get the numbers of the matches after which an Alpha pack dropped\n",
    "idx_alpha = np.where(result['Alpha Dropped'])[0]\n",
    "# compute the series of matches to be played until an Alpha pack drops again\n",
    "matches_till_alpha = np.hstack([idx_alpha[0], np.diff(idx_alpha)])\n",
    "# compute which probability there was at the time\n",
    "prob_at_alpha = result['p[Alpha]'][idx_alpha]\n",
    "# format everything into a DataFrame for a simple workflow\n",
    "AlphaDropped = pd.DataFrame(data={'Round': idx_alpha,\n",
    "                                  'Matches to Alpha': matches_till_alpha,\n",
    "                                  'Probability at Alpha': prob_at_alpha})\n",
    "_ = AlphaDropped.set_index('Round')"
   ]
  },
  {
   "cell_type": "markdown",
   "metadata": {},
   "source": [
    "## 3.1 Probability distribution of the probability reached when an Alpha pack drops\n",
    "\n",
    "We can now visualise the empirical distribution obtained through a simulation. In my case of $p_{win}=0.4$, the Alpha pack probability at the point where an Alpha pack drops is asymmetric around a mean of ca. 25 percent.\n",
    "\n",
    "The following code formats the DataFrame, computes some basic descriptive stats, and finally plots the histogram of the distribution."
   ]
  },
  {
   "cell_type": "code",
   "execution_count": 7,
   "metadata": {},
   "outputs": [
    {
     "name": "stdout",
     "output_type": "stream",
     "text": [
      "Basic Statistics:\n",
      "\n",
      "count    473429.000000\n",
      "mean          0.251334\n",
      "std           0.127727\n",
      "min           0.020000\n",
      "25%           0.155000\n",
      "50%           0.240000\n",
      "75%           0.335000\n",
      "max           1.000000\n",
      "Name: Probability at Alpha, dtype: float64\n"
     ]
    },
    {
     "data": {
      "image/png": "[encoded data removed]",
      "text/plain": [
       "<Figure size 432x288 with 1 Axes>"
      ]
     },
     "metadata": {
      "needs_background": "light"
     },
     "output_type": "display_data"
    }
   ],
   "source": [
    "# Print some basic stats\n",
    "print('Basic Statistics:\\n')\n",
    "_ = print(AlphaDropped['Probability at Alpha'].describe())\n",
    "\n",
    "# Plot a histogram (normed to ensure unit mass)\n",
    "AlphaDropped['Probability at Alpha'].plot.hist(bins=25, alpha=.8, density=True)\n",
    "# Compute the mean\n",
    "mean = np.round(AlphaDropped['Probability at Alpha'].mean(), 3)\n",
    "# Define the title of the histogram\n",
    "plt.title('Probability p at Alpha drop. Mean: {}'.format(mean))\n",
    "plt.xlabel('Probability p reached when Alpha drops')\n",
    "_ = plt.ylabel('Probability Density at p')"
   ]
  },
  {
   "cell_type": "markdown",
   "metadata": {},
   "source": [
    "## 3.2 Probability distribution of the number of matches played until an Alpha pack drops\n",
    "\n",
    "We can now visualise the empirical distribution obtained through a simulation. In my case of $p_{win}=0.4$, I expect to play on average 14 to 15 matches until I get another Alpha pack. I would also expect to play at most 20 rounds to obtain an alpha pack in three out of four cases. The probability distribution looks similar to the probability distribution of the peak probability as the alpha pack drops - that follows a certain logic. \n",
    "\n",
    "The following code formats the DataFrame, computes some basic descriptive stats, and finally plots the histogram of the distribution."
   ]
  },
  {
   "cell_type": "code",
   "execution_count": 8,
   "metadata": {},
   "outputs": [
    {
     "name": "stdout",
     "output_type": "stream",
     "text": [
      "Basic Statistics:\n",
      "\n",
      "count    473429.000000\n",
      "mean         14.785708\n",
      "std           7.688753\n",
      "min           1.000000\n",
      "25%           9.000000\n",
      "50%          14.000000\n",
      "75%          20.000000\n",
      "max          62.000000\n",
      "Name: Matches to Alpha, dtype: float64\n"
     ]
    },
    {
     "data": {
      "image/png": "[encoded data removed]",
      "text/plain": [
       "<Figure size 432x288 with 1 Axes>"
      ]
     },
     "metadata": {
      "needs_background": "light"
     },
     "output_type": "display_data"
    }
   ],
   "source": [
    "# Print some basic stats\n",
    "print('Basic Statistics:\\n')\n",
    "_ = print(AlphaDropped['Matches to Alpha'].describe())\n",
    "\n",
    "# Plot a histogram (normed to ensure unit mass)\n",
    "AlphaDropped['Matches to Alpha'].plot.hist(bins=20, alpha=.8, density=True)\n",
    "# Compute the mean\n",
    "mean = np.round(AlphaDropped['Matches to Alpha'].mean(), 1)\n",
    "# Define the title of the histogram\n",
    "plt.title('Matches played to Alpha drop. Mean: {}'.format(mean))\n",
    "plt.xlabel('#Matches $n$')\n",
    "_ = plt.ylabel('Probability Density at $n$')\n",
    "\n"
   ]
  }
 ],
 "metadata": {
  "kernelspec": {
   "display_name": "Python 3",
   "language": "python",
   "name": "python3"
  },
  "language_info": {
   "codemirror_mode": {
    "name": "ipython",
    "version": 3
   },
   "file_extension": ".py",
   "mimetype": "text/x-python",
   "name": "python",
   "nbconvert_exporter": "python",
   "pygments_lexer": "ipython3",
   "version": "3.7.2"
  }
 },
 "nbformat": 4,
 "nbformat_minor": 2
}
